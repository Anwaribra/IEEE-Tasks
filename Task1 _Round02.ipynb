{
 "cells": [
  {
   "cell_type": "markdown",
   "metadata": {},
   "source": [
    "# Intermediate level"
   ]
  },
  {
   "cell_type": "markdown",
   "metadata": {},
   "source": [
    "# What is an index in SQL? When would you use an index?  \n",
    " Index in SQL is a special lookup table that used to speed up the process of data retrieval, It contains references pointing to the data in a database, simplifying the process of locating specific records in table. \n",
    " Indexes are primarily performance tool, especially useful as a database increases in size.\n",
    "\n",
    "We use index to:\n",
    "- Speeding up queries and enhancing performance\n",
    "- Frequent sorting or grouping \n",
    "- Defining primary-key or unique index \n",
    "- Frequent filtering\n",
    "- Improving data retrieval"
   ]
  }
 ],
 "metadata": {
  "language_info": {
   "name": "python"
  }
 },
 "nbformat": 4,
 "nbformat_minor": 2
}
