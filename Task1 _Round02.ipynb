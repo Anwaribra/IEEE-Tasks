{
 "cells": [
  {
   "cell_type": "markdown",
   "metadata": {},
   "source": [
    "# Intermediate level"
   ]
  },
  {
   "cell_type": "markdown",
   "metadata": {},
   "source": [
    "> What is an index in SQL? When would you use an index?  \n",
    "\n",
    "- Index in SQL is a special lookup table that used to - speed up the process of data retrieval, It contains references pointing to the data in a database, simplifying the process of locating specific records in table. \n",
    " Indexes are primarily performance tool, especially useful as a database increases in size.\n",
    "\n",
    "***Indexes are utilized to:***\n",
    "\n",
    "- Improve query performance and accelerate data retrieval.\n",
    "- Optimize common sorting or grouping tasks on columns.\n",
    "- Enforce primary key or unique constraints to uphold data integrity.\n",
    "- Enhance frequent filtering in queries, such as those found in WHERE clauses.\n",
    "- Speed up data access by swiftly identifying necessary records in large tables.\n",
    "\n",
    ">>What questions do you ask before designing data pipelines?\n",
    "- ask about the data sources, volume, and velocity to understand the input and processing needs \n",
    "- Inquire about data transformation requirements and storage solutions to ensure efficient handling and retrieval\n",
    "- Address security, compliance, and monitoring to maintain reliability and adherence to regulations.\n"
   ]
  },
  {
   "cell_type": "markdown",
   "metadata": {},
   "source": [
    "##### Problem Solving: \n",
    "\n",
    "(Tesla):[ Tesla SQL Interview Question | DataLemur](https://datalemur.com/questions/tesla-unfinished-parts)\n",
    "```python\n",
    "Solution:\n",
    "SELECT part, assembly_step\n",
    "FROM parts_assembly\n",
    "WHERE finish_date IS NULL;\n",
    "\n",
    "```\n",
    "\n",
    "\n",
    "\n",
    "\n",
    "\n",
    "\n",
    "\n",
    "\n",
    "\n",
    "\n",
    "\n",
    "(LinkedIn) [LinkedIn SQL Interview Question | DataLemur](https://datalemur.com/questions/matching-skills)\n",
    "```python\n",
    "Solution:\n",
    "SELECT candidate_id\n",
    "FROM candidates\n",
    "WHERE skill IN ('Python', 'Tableau', 'PostgreSQL')\n",
    "GROUP BY candidate_id\n",
    "HAVING count(DISTINCT skill) = 3\n",
    "ORDER BY candidate_id asc;\n",
    "```\n"
   ]
  }
 ],
 "metadata": {
  "language_info": {
   "name": "python"
  }
 },
 "nbformat": 4,
 "nbformat_minor": 2
}
